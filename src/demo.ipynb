{
 "cells": [
  {
   "cell_type": "markdown",
   "metadata": {},
   "source": [
    "# 🧪 Review Reviewer — Interactive Demo Notebook\n",
    "\n",
    "This notebook demonstrates our hackathon project:  \n",
    "**Automatically flagging irrelevant or low-quality Google reviews (text + image) to improve trust in local business platforms.**\n",
    "\n",
    "We show two workflows:\n",
    "1. **Text-only** review classification.  \n",
    "2. **Image-augmented** classification (generate a caption for an attached image, merge with review text, then classify).\n",
    "\n",
    "The outputs show whether a review is:\n",
    "- `advertisement`\n",
    "- `irrelevant`\n",
    "- `rant_no_visit`\n",
    "- `image_irrelevant`\n",
    "- `image_advertisement`\n",
    "- `ok`\n",
    "\n",
    "…and whether it should be considered **relevant** or not."
   ]
  },
  {
   "cell_type": "markdown",
   "metadata": {},
   "source": [
    "## 1. Setup & Environment\n",
    "\n",
    "This demo requires:\n",
    "- Python 3.9+  \n",
    "- Dependencies: `groq`, `transformers`, `torch`, `python-dotenv`, `pandas`, `Pillow`\n",
    "- Create a .env file in the repo root with your GROP API key\n",
    "\n",
    "> If needed, install with:\n",
    "```bash\n",
    "pip install -U groq transformers torch python-dotenv pandas pillow"
   ]
  },
  {
   "cell_type": "markdown",
   "metadata": {
    "vscode": {
     "languageId": "plaintext"
    }
   },
   "source": [
    "## 2. Quick Test — Text-only Review\n",
    "\n",
    "We first classify a simple review string without any image attached.  \n",
    "Expected outcome: detect `rant_no_visit`, `irrelevant`, etc. based purely on text."
   ]
  },
  {
   "cell_type": "code",
   "execution_count": 1,
   "metadata": {},
   "outputs": [
    {
     "name": "stdout",
     "output_type": "stream",
     "text": [
      "{'relevant': False, 'violation': 'rant_no_visit', 'classification': 'rant_no_visit', 'confidence': 1.0, 'reasoning': 'reviewer explicitly stated they did not visit', 'indicators': []}\n"
     ]
    }
   ],
   "source": [
    "from review_classifier import classify_review, get_groq_client\n",
    "\n",
    "# Reuse the Groq client for efficiency\n",
    "client = get_groq_client()\n",
    "\n",
    "# Example review payload\n",
    "review = {\n",
    "    \"category\": \"Pizza restaurant\",\n",
    "    \"rating\": 1,\n",
    "    \"text\": \"Never been here but I heard it's terrible.\",\n",
    "    \"place_name\": \"Slicetown\",\n",
    "}\n",
    "\n",
    "# Run classification\n",
    "result = classify_review(\n",
    "    category=review[\"category\"],\n",
    "    rating=review[\"rating\"],\n",
    "    text=review[\"text\"],\n",
    "    place_name=review[\"place_name\"],\n",
    "    client=client\n",
    ")\n",
    "\n",
    "print(result)"
   ]
  },
  {
   "cell_type": "markdown",
   "metadata": {},
   "source": [
    "## 3. Quick Test — Review with Image\n",
    "\n",
    "If a review has an image:\n",
    "1. Generate a caption with BLIP.  \n",
    "2. Append caption to the review text as:  \n",
    "   `\"With a picture of <caption>\"`.  \n",
    "3. Pass into classifier with new rules (`image_irrelevant` or `image_advertisement`).  \n",
    "\n",
    "This demonstrates **multimodal classification**."
   ]
  },
  {
   "cell_type": "code",
   "execution_count": 2,
   "metadata": {},
   "outputs": [
    {
     "name": "stderr",
     "output_type": "stream",
     "text": [
      "Using a slow image processor as `use_fast` is unset and a slow processor was saved with this model. `use_fast=True` will be the default behavior in v4.52, even if the model was saved with a slow processor. This will result in minor differences in outputs. You'll still be able to use a slow processor with `use_fast=False`.\n"
     ]
    },
    {
     "data": {
      "application/vnd.jupyter.widget-view+json": {
       "model_id": "98fa9468da87447196c96143309aa72d",
       "version_major": 2,
       "version_minor": 0
      },
      "text/plain": [
       "Fetching 1 files:   0%|          | 0/1 [00:00<?, ?it/s]"
      ]
     },
     "metadata": {},
     "output_type": "display_data"
    },
    {
     "name": "stdout",
     "output_type": "stream",
     "text": [
      "{'relevant': False, 'violation': 'image_irrelevant', 'classification': 'image_irrelevant', 'confidence': 0.8, 'reasoning': 'image description contradicts the place category', 'indicators': ['irrelevant_picture'], '_image_caption': \"a woman ' s hand with a ring on it\"}\n"
     ]
    }
   ],
   "source": [
    "from image_augmented_classifier import classify_review_with_image\n",
    "from review_classifier import get_groq_client\n",
    "\n",
    "# Reuse the Groq client for efficiency\n",
    "client = get_groq_client()\n",
    "\n",
    "# Example review with a local image file\n",
    "review = {\n",
    "    \"category\": \"Pizza restaurant\",\n",
    "    \"rating\": 2,\n",
    "    \"text\": \"The dough was soggy but service was friendly.\",\n",
    "    \"place_name\": \"Mario's Slice\",\n",
    "    \"image_path\": \"../image/img_1.jpg\",  # <-- ensure this exists\n",
    "}\n",
    "\n",
    "result = classify_review_with_image(\n",
    "    category=review[\"category\"],\n",
    "    rating=review[\"rating\"],\n",
    "    text=review[\"text\"],\n",
    "    place_name=review[\"place_name\"],\n",
    "    image_path=review[\"image_path\"],\n",
    "    client=client,\n",
    ")\n",
    "\n",
    "print(result)\n",
    "# Example fields:\n",
    "# {\n",
    "#   \"relevant\": true/false,\n",
    "#   \"violation\": \"ok\"|\"image_irrelevant\"|\"image_advertisement\"|...,\n",
    "#   \"classification\": \"...\",\n",
    "#   \"confidence\": 0.8,\n",
    "#   \"reasoning\": \"...\",\n",
    "#   \"indicators\": [...],\n",
    "#   \"_image_caption\": \"a slice of pizza on a plate\"  # for auditing\n",
    "# }"
   ]
  }
 ],
 "metadata": {
  "kernelspec": {
   "display_name": "base",
   "language": "python",
   "name": "python3"
  },
  "language_info": {
   "codemirror_mode": {
    "name": "ipython",
    "version": 3
   },
   "file_extension": ".py",
   "mimetype": "text/x-python",
   "name": "python",
   "nbconvert_exporter": "python",
   "pygments_lexer": "ipython3",
   "version": "3.11.5"
  }
 },
 "nbformat": 4,
 "nbformat_minor": 2
}

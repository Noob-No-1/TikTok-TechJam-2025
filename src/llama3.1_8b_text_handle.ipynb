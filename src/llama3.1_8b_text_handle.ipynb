{
 "cells": [
  {
   "cell_type": "code",
   "execution_count": 1,
   "metadata": {},
   "outputs": [
    {
     "name": "stdout",
     "output_type": "stream",
     "text": [
      "{'relevant': True, 'violation': 'rant_no_visit', 'classification': 'rant_no_visit', 'confidence': 0.8, 'reasoning': 'reviewer states they did not visit', 'indicators': [\"haven't been\", 'never been']}\n"
     ]
    }
   ],
   "source": [
    "#from huggingface_hub import InferenceClient\n",
    "from dotenv import load_dotenv\n",
    "import os, json\n",
    "from groq import Groq\n",
    "\n",
    "load_dotenv()\n",
    "client = Groq(api_key=os.getenv(\"GROQ_API_KEY\"))\n",
    "\n",
    "\n",
    "prompt = \"\"\"Task: Classify a location review for relevance and policy violations.\n",
    "\n",
    "Definitions (pick exactly one violation):\n",
    "- advertisement: contains promotional links/codes, phone numbers, coupons, “call now”, or unrelated marketing.\n",
    "- irrelevant: off-topic; not about this place or its services; about another product/person/event; misplaced review (clearly for a different business type); filler/emoji-only.\n",
    "- rant_no_visit: reviewer clearly states they did not visit (e.g., “never been”, “haven’t been”, “heard it’s…”).\n",
    "- ok: none of the above AND the review is about this place.\n",
    "\n",
    "Intent & fallback principle:\n",
    "If none of the violation categories apply and the review is about the place, classify as \"ok\".\n",
    "Default to \"ok\" when in doubt, because the goal is to:\n",
    "- increase user trust in location-based reviews (better decisions),\n",
    "- ensure fair representation for businesses,\n",
    "- and enhance platform credibility via consistent moderation.\n",
    "\n",
    "Output STRICT JSON only (double-quoted keys/strings; booleans lowercase):\n",
    "{{\n",
    "  \"relevant\": true|false,\n",
    "  \"violation\": \"advertisement\"|\"irrelevant\"|\"rant_no_visit\"|\"ok\",\n",
    "  \"classification\": \"advertisement\"|\"irrelevant\"|\"rant_no_visit\"|\"ok\",\n",
    "  \"confidence\": 0.0-1.0,\n",
    "  \"reasoning\": \"<short phrase>\",\n",
    "  \"indicators\": [\"token1\",\"token2\"]\n",
    "}}\n",
    "\n",
    "Place:  Pizza restaurant, Delivery Restaurant, Takeout Restaurant, Pizza delivery, Pizza Takeout\n",
    "Review: \"I have not been there but i heard that the dough was limp. Pizza wasn't cut. The chicken bites were burnt and nasty. Sauce was not good.\"\n",
    "\"\"\"\n",
    "\n",
    "resp = client.chat.completions.create(\n",
    "    model=\"llama-3.1-8b-instant\",\n",
    "    messages=[{\"role\": \"user\", \"content\": prompt}],\n",
    "    temperature=0,                     # deterministic\n",
    "    response_format={\"type\": \"json_object\"},  # ask Groq to return valid JSON\n",
    "    max_tokens=200,\n",
    ")\n",
    "\n",
    "text = resp.choices[0].message.content\n",
    "# Should already be strict JSON thanks to response_format\n",
    "data = json.loads(text)\n",
    "print(data)  # {'relevant': false, 'violation': 'irrelevant', 'reason': '...'}"
   ]
  }
 ],
 "metadata": {
  "kernelspec": {
   "display_name": "CS2109S",
   "language": "python",
   "name": "python3"
  },
  "language_info": {
   "codemirror_mode": {
    "name": "ipython",
    "version": 3
   },
   "file_extension": ".py",
   "mimetype": "text/x-python",
   "name": "python",
   "nbconvert_exporter": "python",
   "pygments_lexer": "ipython3",
   "version": "3.12.1"
  }
 },
 "nbformat": 4,
 "nbformat_minor": 2
}
